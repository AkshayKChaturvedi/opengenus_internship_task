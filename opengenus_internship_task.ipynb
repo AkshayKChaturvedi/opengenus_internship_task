{
 "cells": [
  {
   "cell_type": "code",
   "execution_count": 4,
   "metadata": {},
   "outputs": [],
   "source": [
    "from bs4 import BeautifulSoup\n",
    "import re\n",
    "import requests\n",
    "import tldextract\n",
    "from collections import Counter\n",
    "\n",
    "def get_webpage_info(url):\n",
    "    \n",
    "    response = requests.get(url)\n",
    "\n",
    "    size_web_page = len(response.content)\n",
    "\n",
    "    soup = BeautifulSoup(response.content)\n",
    "    \n",
    "    links = [web_link.get('href') for web_link in soup.findAll('a', attrs={'href': re.compile(\"^https://\")})]\n",
    "    \n",
    "    domains = [tldextract.extract(link).domain for link in links]\n",
    "    \n",
    "    domains_value_count = dict(Counter(domains))\n",
    "    \n",
    "    return size_web_page, domains_value_count"
   ]
  },
  {
   "cell_type": "code",
   "execution_count": 5,
   "metadata": {},
   "outputs": [
    {
     "name": "stdout",
     "output_type": "stream",
     "text": [
      "Size of Manoj's github overview page : 93933\n",
      "Domain counts in Manoj's github overview page : {'github': 15, 'githubusercontent': 1, 'linkedin': 1}\n"
     ]
    }
   ],
   "source": [
    "manoj_git_size, manoj_git_domain_counts = get_webpage_info('https://github.com/manojsubramanyam')\n",
    "print(\"Size of Manoj's github overview page :\", manoj_git_size)\n",
    "print(\"Domain counts in Manoj's github overview page :\", manoj_git_domain_counts)"
   ]
  },
  {
   "cell_type": "code",
   "execution_count": 6,
   "metadata": {},
   "outputs": [
    {
     "name": "stdout",
     "output_type": "stream",
     "text": [
      "Size of Akshay's github overview page : 87977\n",
      "Domain counts in Akshay's github overview page : {'github': 15, 'githubusercontent': 1}\n"
     ]
    }
   ],
   "source": [
    "akshay_git_size, akshay_git_domain_counts = get_webpage_info('https://github.com/AkshayKChaturvedi')\n",
    "print(\"Size of Akshay's github overview page :\", akshay_git_size)\n",
    "print(\"Domain counts in Akshay's github overview page :\", akshay_git_domain_counts)"
   ]
  },
  {
   "cell_type": "code",
   "execution_count": null,
   "metadata": {},
   "outputs": [],
   "source": []
  }
 ],
 "metadata": {
  "kernelspec": {
   "display_name": "Python 3",
   "language": "python",
   "name": "python3"
  },
  "language_info": {
   "codemirror_mode": {
    "name": "ipython",
    "version": 3
   },
   "file_extension": ".py",
   "mimetype": "text/x-python",
   "name": "python",
   "nbconvert_exporter": "python",
   "pygments_lexer": "ipython3",
   "version": "3.6.3"
  }
 },
 "nbformat": 4,
 "nbformat_minor": 2
}
